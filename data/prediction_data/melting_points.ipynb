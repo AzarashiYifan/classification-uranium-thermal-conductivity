{
 "cells": [
  {
   "cell_type": "code",
   "execution_count": 1,
   "id": "073e83f3-69f8-4b0d-8ea6-aa4f70a32fba",
   "metadata": {},
   "outputs": [],
   "source": [
    "import pandas as pd\n",
    "from pymatgen.core import Element\n",
    "\n",
    "# Define all the elements we are interested in.\n",
    "# We convert each element to string for further processing.\n",
    "elements = [str(e) for e in Element]\n",
    "\n",
    "# Prepare lists to store data.\n",
    "# We're collecting element symbols and their respective melting points.\n",
    "element_symbols = []\n",
    "melting_points = []\n",
    "\n",
    "# Loop through each symbol in the elements list.\n",
    "for symbol in elements:\n",
    "    # Skip uranium as it's often not considered in general chemistry due to its radioactive nature.\n",
    "    if symbol == \"U\":  \n",
    "        continue\n",
    "    # Create an Element object for each symbol.\n",
    "    el = Element(symbol)\n",
    "    # Access the properties of each element stored in 'data'.\n",
    "    el_data = el.data\n",
    "    # Try to get the melting point from the properties. If not available, assign None.\n",
    "    melting_point = el_data.get(\"Melting point\", None)  \n",
    "    # If the melting point is available (not None), proceed.\n",
    "    if melting_point is not None:\n",
    "        # The melting point might be in a format like \"1234 K\". We split by space and keep only the numeric part.\n",
    "        melting_point = melting_point.split(' ')[0]  \n",
    "        # Check if the extracted melting point is actually numeric.\n",
    "        # We remove a single decimal point if it exists, then check if the remaining string consists of digits.\n",
    "        if melting_point.replace('.', '', 1).isdigit():\n",
    "            # Convert the melting point to a float.\n",
    "            melting_point = float(melting_point)\n",
    "            # Append the symbol and the melting point to their respective lists.\n",
    "            element_symbols.append(symbol)\n",
    "            melting_points.append(melting_point)\n",
    "\n",
    "# Prepare DataFrame.\n",
    "# The DataFrame consists of two columns: \"Element\" and \"Melting Point\", populated from our lists.\n",
    "df = pd.DataFrame({\"Element\": element_symbols, \"Melting Point\": melting_points})\n",
    "\n",
    "# Create a second DataFrame for metals only.\n",
    "# We create a boolean mask where each element is checked if it's a metal.\n",
    "is_metal = [Element(e).is_metal for e in df[\"Element\"]]\n",
    "# Apply the mask to our original DataFrame to get only the metals.\n",
    "df_metals = df[is_metal]\n",
    "df_metals.to_csv(\"melting_point_metals.csv\",index=False)"
   ]
  }
 ],
 "metadata": {
  "kernelspec": {
   "display_name": "Python 3 (ipykernel)",
   "language": "python",
   "name": "python3"
  },
  "language_info": {
   "codemirror_mode": {
    "name": "ipython",
    "version": 3
   },
   "file_extension": ".py",
   "mimetype": "text/x-python",
   "name": "python",
   "nbconvert_exporter": "python",
   "pygments_lexer": "ipython3",
   "version": "3.8.13"
  }
 },
 "nbformat": 4,
 "nbformat_minor": 5
}
