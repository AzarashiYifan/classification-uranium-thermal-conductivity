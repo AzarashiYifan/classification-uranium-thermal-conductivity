{
 "cells": [
  {
   "cell_type": "code",
   "execution_count": 1,
   "id": "c2b74482-d04b-45b4-ba67-38c750681505",
   "metadata": {},
   "outputs": [
    {
     "data": {
      "application/vnd.jupyter.widget-view+json": {
       "model_id": "55d47e5e168f44e08063a60a6771a333",
       "version_major": 2,
       "version_minor": 0
      },
      "text/plain": [
       "Retrieving SummaryDoc documents:   0%|          | 0/783 [00:00<?, ?it/s]"
      ]
     },
     "metadata": {},
     "output_type": "display_data"
    }
   ],
   "source": [
    "from pymatgen.core.composition import Composition\n",
    "from pymatgen.core.periodic_table import Element\n",
    "import pandas as pd\n",
    "from mp_api.client import MPRester\n",
    "\n",
    "def calculate_uranium_density(formula, density):\n",
    "    comp = Composition(formula)\n",
    "    \n",
    "    # Calculate the molar mass of the compound\n",
    "    total_molar_mass = sum(Element(el).atomic_mass * amt for el, amt in comp.items())\n",
    "    \n",
    "    # Calculate the compound's volume\n",
    "    volume = total_molar_mass / density if density else None\n",
    "    \n",
    "    # Calculate the uranium's molar mass\n",
    "    uranium_mass = Element('U').atomic_mass * comp[\"U\"]\n",
    "    \n",
    "    # Calculate the uranium density\n",
    "    uranium_density = uranium_mass / volume if volume else None\n",
    "\n",
    "    return uranium_density\n",
    "\n",
    "with MPRester(\"API_key\") as mpr:\n",
    "    docs = mpr.summary.search(\n",
    "        elements=[\"U\"], is_stable=True, fields=[\"formula_pretty\", \"density\"]\n",
    "    )\n",
    "\n",
    "    # Create a list of dictionaries, each representing a row in the dataframe\n",
    "    data = []\n",
    "    for doc in docs:\n",
    "        row = {\n",
    "            \"Pretty Formula\": doc.formula_pretty,\n",
    "            \"Density\": doc.density,  # include density data\n",
    "            \"Uranium Density\": calculate_uranium_density(doc.formula_pretty, doc.density)  # calculate uranium density\n",
    "        }\n",
    "        data.append(row)\n",
    "\n",
    "    # Create dataframe\n",
    "    df = pd.DataFrame(data)\n",
    "\n",
    "df.to_csv(\"mp_uranium_compounds.csv\", index=False)"
   ]
  }
 ],
 "metadata": {
  "kernelspec": {
   "display_name": "Python 3 (ipykernel)",
   "language": "python",
   "name": "python3"
  },
  "language_info": {
   "codemirror_mode": {
    "name": "ipython",
    "version": 3
   },
   "file_extension": ".py",
   "mimetype": "text/x-python",
   "name": "python",
   "nbconvert_exporter": "python",
   "pygments_lexer": "ipython3",
   "version": "3.8.13"
  }
 },
 "nbformat": 4,
 "nbformat_minor": 5
}
